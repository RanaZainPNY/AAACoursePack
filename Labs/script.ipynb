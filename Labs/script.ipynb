{
 "cells": [
  {
   "cell_type": "code",
   "execution_count": 9,
   "metadata": {},
   "outputs": [
    {
     "name": "stdout",
     "output_type": "stream",
     "text": [
      "Created 12 week directories with LabManual and StudentActivities subfolders.\n"
     ]
    }
   ],
   "source": [
    "import os\n",
    "import shutil\n",
    "\n",
    "def setup_week_directories(total_weeks=12):\n",
    "    base_path = os.getcwd()  # Get current working directory\n",
    "    # Remove all existing directories\n",
    "    for item in os.listdir(base_path):\n",
    "        item_path = os.path.join(base_path, item)\n",
    "        if os.path.isdir(item_path):\n",
    "            shutil.rmtree(item_path)  # Remove directory and all its contents\n",
    "    # Create new week directories with subfolders\n",
    "    for i in range(1, total_weeks + 1):\n",
    "        week_dir = f\"Week_{i:02d}\"  # Format as Week_01, Week_02, etc.\n",
    "        os.makedirs(os.path.join(week_dir, \"LabManual\"))\n",
    "        os.makedirs(os.path.join(week_dir, \"StudentActivities\"))\n",
    "    print(f\"Created {total_weeks} week directories with LabManual and StudentActivities subfolders.\")\n",
    "\n",
    "# Example usage\n",
    "setup_week_directories(12)  # You can change the number 12 to adjust the number of weeks"
   ]
  }
 ],
 "metadata": {
  "kernelspec": {
   "display_name": "base",
   "language": "python",
   "name": "python3"
  },
  "language_info": {
   "codemirror_mode": {
    "name": "ipython",
    "version": 3
   },
   "file_extension": ".py",
   "mimetype": "text/x-python",
   "name": "python",
   "nbconvert_exporter": "python",
   "pygments_lexer": "ipython3",
   "version": "3.12.4"
  }
 },
 "nbformat": 4,
 "nbformat_minor": 2
}
